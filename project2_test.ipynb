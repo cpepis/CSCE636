{
  "nbformat": 4,
  "nbformat_minor": 0,
  "metadata": {
    "colab": {
      "provenance": [],
      "gpuType": "T4"
    },
    "kernelspec": {
      "name": "python3",
      "display_name": "Python 3"
    },
    "language_info": {
      "name": "python"
    },
    "accelerator": "GPU"
  },
  "cells": [
    {
      "cell_type": "code",
      "source": [
        "from google.colab import drive\n",
        "drive.mount(\"/gdrive\")"
      ],
      "metadata": {
        "id": "40FZygRfc-j-",
        "colab": {
          "base_uri": "https://localhost:8080/"
        },
        "outputId": "9ac2e062-9d2c-469e-87c6-ee9e3a2e0c04"
      },
      "execution_count": 1,
      "outputs": [
        {
          "output_type": "stream",
          "name": "stdout",
          "text": [
            "Mounted at /gdrive\n"
          ]
        }
      ]
    },
    {
      "cell_type": "code",
      "source": [
        "import pickle\n",
        "import tensorflow as tf"
      ],
      "metadata": {
        "id": "PmiSMNCxZHj_"
      },
      "execution_count": 2,
      "outputs": []
    },
    {
      "cell_type": "code",
      "source": [
        "test_input_path = r\"/gdrive/MyDrive/Colab Notebooks/Test_input\"\n",
        "test_output_path = r\"/gdrive/MyDrive/Colab Notebooks/Test_output\"\n",
        "\n",
        "test_input = pickle.load(open(test_input_path, 'rb'))\n",
        "test_output = pickle.load(open(test_output_path, 'rb'))"
      ],
      "metadata": {
        "id": "OLpRoX2vZsag"
      },
      "execution_count": 3,
      "outputs": []
    },
    {
      "cell_type": "code",
      "source": [
        "model = tf.saved_model.load('/gdrive/MyDrive/Colab Notebooks/translator.tf')"
      ],
      "metadata": {
        "id": "0SKsgowdZZ3b"
      },
      "execution_count": 4,
      "outputs": []
    },
    {
      "cell_type": "code",
      "source": [
        "NN = len(test_input)\n",
        "\n",
        "predicted_outputs = []\n",
        "for i in range(NN):\n",
        "    inputs = test_input[i:i+1]\n",
        "    result = model.translate(tf.constant(inputs))\n",
        "    predicted_sentence = result[0].numpy().decode()\n",
        "    predicted_outputs.append(predicted_sentence)\n",
        "print(len(predicted_outputs))\n",
        "pickle.dump(predicted_outputs, open('/gdrive/MyDrive/Colab Notebooks/list','wb'))"
      ],
      "metadata": {
        "id": "gN7nmfXheY2-",
        "colab": {
          "base_uri": "https://localhost:8080/"
        },
        "outputId": "1df7fc25-3edc-4ac2-9a07-962aa25f5eec"
      },
      "execution_count": 5,
      "outputs": [
        {
          "output_type": "stream",
          "name": "stdout",
          "text": [
            "11200\n"
          ]
        }
      ]
    },
    {
      "cell_type": "code",
      "source": [
        "test_prediction = pickle.load(open(\"/gdrive/MyDrive/Colab Notebooks/list\", \"rb\"))\n",
        "\n",
        "total_sentences = len(test_output)\n",
        "total_correct_sentences = sum(pred_sentence.strip() == true_sentence.strip() for pred_sentence, true_sentence in zip(test_prediction, test_output))\n",
        "\n",
        "test_acc = total_correct_sentences / total_sentences\n",
        "your_score = round(test_acc * 1000) / 10\n",
        "print(f\"Test Accuracy: {test_acc:.4f}\")"
      ],
      "metadata": {
        "id": "D_LVNp3Te0ZQ",
        "colab": {
          "base_uri": "https://localhost:8080/"
        },
        "outputId": "1c31e9d7-1937-4503-838e-8aced84fdd41"
      },
      "execution_count": 6,
      "outputs": [
        {
          "output_type": "stream",
          "name": "stdout",
          "text": [
            "Test Accuracy: 0.9678\n"
          ]
        }
      ]
    }
  ]
}