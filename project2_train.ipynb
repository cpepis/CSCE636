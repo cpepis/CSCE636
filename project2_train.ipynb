{
  "cells": [
    {
      "cell_type": "markdown",
      "source": [
        "Reference: [Neural machine translation with attention](https://www.tensorflow.org/text/tutorials/nmt_with_attention)"
      ],
      "metadata": {
        "id": "wj_0kbxC1Sra"
      }
    },
    {
      "cell_type": "code",
      "source": [
        "from google.colab import drive\n",
        "drive.mount(\"/gdrive\")"
      ],
      "metadata": {
        "id": "gsDOaJobE-Yd",
        "colab": {
          "base_uri": "https://localhost:8080/"
        },
        "outputId": "c215c1e9-1f49-4b34-afad-356aaa7f211a"
      },
      "execution_count": 1,
      "outputs": [
        {
          "output_type": "stream",
          "name": "stdout",
          "text": [
            "Mounted at /gdrive\n"
          ]
        }
      ]
    },
    {
      "cell_type": "code",
      "source": [
        "import pickle\n",
        "import random\n",
        "import numpy as np\n",
        "import tensorflow as tf\n",
        "import matplotlib.pyplot as plt"
      ],
      "metadata": {
        "id": "bE0oY9EnFgVX"
      },
      "execution_count": 2,
      "outputs": []
    },
    {
      "cell_type": "code",
      "source": [
        "# Paths to the training input and output pickled files\n",
        "train_input_path = r\"/gdrive/MyDrive/Colab Notebooks/Train_input\"\n",
        "train_output_path = r\"/gdrive/MyDrive/Colab Notebooks/Train_output\"\n",
        "\n",
        "test_input_path = r\"/gdrive/MyDrive/Colab Notebooks/Test_input\"\n",
        "test_output_path = r\"/gdrive/MyDrive/Colab Notebooks/Test_output\"\n",
        "\n",
        "# Load train input and output data using pickle\n",
        "train_input = pickle.load(open(train_input_path, 'rb'))\n",
        "train_output = pickle.load(open(train_output_path, 'rb'))\n",
        "\n",
        "# Combine train inputs and outputs into text pairs\n",
        "text_pairs = list(zip(train_input, train_output))\n",
        "\n",
        "# Shuffle the text pairs and split into train and validation sets\n",
        "random.seed(8)\n",
        "random.shuffle(text_pairs)\n",
        "\n",
        "# Define the number of samples for validation and test sets\n",
        "num_test_samples = int(0.1 * len(text_pairs))\n",
        "num_val_samples = int(0.2 * len(text_pairs))\n",
        "num_train_samples = len(text_pairs) - num_val_samples - num_test_samples\n",
        "\n",
        "# Split text pairs into train, validation, and test sets\n",
        "test_pairs = text_pairs[:num_test_samples]\n",
        "val_pairs = text_pairs[num_test_samples:num_test_samples + num_val_samples]\n",
        "train_pairs = text_pairs[num_test_samples + num_val_samples:]\n",
        "\n",
        "# Print the number of samples in train, validation, and test sets\n",
        "print(f'Number of training samples: {len(train_pairs)}')\n",
        "print(f'Number of validation samples: {len(val_pairs)}')\n",
        "print(f'Number of test samples: {len(test_pairs)}')\n",
        "\n",
        "# Separate train, validation, and test inputs and outputs\n",
        "train_inputs = [pair[0] for pair in train_pairs]\n",
        "train_outputs = [pair[1] for pair in train_pairs]\n",
        "\n",
        "val_inputs = [pair[0] for pair in val_pairs]\n",
        "val_outputs = [pair[1] for pair in val_pairs]\n",
        "\n",
        "test_inputs = [pair[0] for pair in test_pairs]\n",
        "test_outputs = [pair[1] for pair in test_pairs]\n",
        "\n",
        "with open(test_input_path, 'wb') as f:\n",
        "    pickle.dump(test_inputs, f)\n",
        "\n",
        "with open(test_output_path, 'wb') as f:\n",
        "    pickle.dump(test_outputs, f)"
      ],
      "metadata": {
        "id": "WCinHTSvFptF",
        "colab": {
          "base_uri": "https://localhost:8080/"
        },
        "outputId": "9c425b34-5a97-44db-8d1a-dcfa6a12ca68"
      },
      "execution_count": 3,
      "outputs": [
        {
          "output_type": "stream",
          "name": "stdout",
          "text": [
            "Number of training samples: 78400\n",
            "Number of validation samples: 22400\n",
            "Number of test samples: 11200\n"
          ]
        }
      ]
    },
    {
      "cell_type": "code",
      "source": [
        "display(train_inputs[1], train_outputs[1], val_inputs[1], val_outputs[1])"
      ],
      "metadata": {
        "id": "85IwunvnGpoL",
        "colab": {
          "base_uri": "https://localhost:8080/",
          "height": 91
        },
        "outputId": "ac975f50-e92b-4986-fea8-22c83559e360"
      },
      "execution_count": 4,
      "outputs": [
        {
          "output_type": "display_data",
          "data": {
            "text/plain": [
              "'a h c e b d a f a h c f c e b d a h b d b d a d b d c d '"
            ],
            "application/vnd.google.colaboratory.intrinsic+json": {
              "type": "string"
            }
          },
          "metadata": {}
        },
        {
          "output_type": "display_data",
          "data": {
            "text/plain": [
              "'c e b d c f c e b d a h f g h b d b d b d c d a d l m a h j k ed a f i ee a h d e ef '"
            ],
            "application/vnd.google.colaboratory.intrinsic+json": {
              "type": "string"
            }
          },
          "metadata": {}
        },
        {
          "output_type": "display_data",
          "data": {
            "text/plain": [
              "'a h a h a h c f c f a h b d b d b d c g b d b d c e '"
            ],
            "application/vnd.google.colaboratory.intrinsic+json": {
              "type": "string"
            }
          },
          "metadata": {}
        },
        {
          "output_type": "display_data",
          "data": {
            "text/plain": [
              "'c f c f b d b d b d a h f g h a h d e i c g b d a h j k l b d c e a h m ed ee '"
            ],
            "application/vnd.google.colaboratory.intrinsic+json": {
              "type": "string"
            }
          },
          "metadata": {}
        }
      ]
    },
    {
      "cell_type": "code",
      "source": [
        "# Define the buffer size and batch size for the dataset\n",
        "BUFFER_SIZE = len(train_inputs)\n",
        "BATCH_SIZE = 64\n",
        "\n",
        "# Create TensorFlow datasets for training and validation with selected inputs and outputs\n",
        "# Shuffle the training data with the defined buffer size and create batches of defined batch size\n",
        "train_raw = (\n",
        "    tf.data.Dataset\n",
        "    .from_tensor_slices((train_inputs, train_outputs))\n",
        "    .shuffle(BUFFER_SIZE)\n",
        "    .batch(BATCH_SIZE))\n",
        "\n",
        "# Create a TensorFlow dataset for validation by shuffling the validation data and batching\n",
        "val_raw = (\n",
        "    tf.data.Dataset\n",
        "    .from_tensor_slices((val_inputs, val_outputs))\n",
        "    .shuffle(BUFFER_SIZE)\n",
        "    .batch(BATCH_SIZE))"
      ],
      "metadata": {
        "id": "hqWG9gNqGxEh"
      },
      "execution_count": 5,
      "outputs": []
    },
    {
      "cell_type": "code",
      "source": [
        "# Display the lengths of the train and validation datasets\n",
        "display(len(train_raw), len(val_raw))"
      ],
      "metadata": {
        "id": "iMtHUVH2G3RP",
        "colab": {
          "base_uri": "https://localhost:8080/",
          "height": 52
        },
        "outputId": "6ed3cc78-050d-4a20-a1d1-6a3aa7ae7cc6"
      },
      "execution_count": 6,
      "outputs": [
        {
          "output_type": "display_data",
          "data": {
            "text/plain": [
              "1225"
            ]
          },
          "metadata": {}
        },
        {
          "output_type": "display_data",
          "data": {
            "text/plain": [
              "350"
            ]
          },
          "metadata": {}
        }
      ]
    },
    {
      "cell_type": "code",
      "source": [
        "def preprocessing(text):\n",
        "    # Strip whitespace: Remove leading and trailing spaces.\n",
        "    text = tf.strings.strip(text)\n",
        "\n",
        "    # Add start and end tokens to the text.\n",
        "    text = tf.strings.join(['[START]', text, '[END]'], separator=' ')\n",
        "\n",
        "    return text"
      ],
      "metadata": {
        "id": "f-UW86iFG5-f"
      },
      "execution_count": 7,
      "outputs": []
    },
    {
      "cell_type": "code",
      "source": [
        "# Define the maximum vocabulary size for tokenizing the text\n",
        "max_vocab_size = 100\n",
        "\n",
        "# Initialize a TextVectorization layer for processing context text\n",
        "context_text_processor = tf.keras.layers.TextVectorization(\n",
        "    standardize=preprocessing,  # Apply a specified preprocessing function\n",
        "    max_tokens=max_vocab_size,  # Limit the vocabulary size to a maximum number of tokens\n",
        "    ragged=True  # Handle variable-length sequences with ragged tensors\n",
        ")"
      ],
      "metadata": {
        "id": "MQR4xCB9G8CD"
      },
      "execution_count": 8,
      "outputs": []
    },
    {
      "cell_type": "code",
      "source": [
        "# Adapt the text processor to the training dataset's context data\n",
        "context_text_processor.adapt(train_raw.map(lambda context, target: context))"
      ],
      "metadata": {
        "id": "zCtC5xwxG9zH"
      },
      "execution_count": 9,
      "outputs": []
    },
    {
      "cell_type": "code",
      "source": [
        "# Initialize a TextVectorization layer for target text with defined parameters\n",
        "target_text_processor = tf.keras.layers.TextVectorization(\n",
        "    standardize=preprocessing,  # Define standardization function for text preprocessing\n",
        "    max_tokens=max_vocab_size,  # Define the maximum vocabulary size\n",
        "    ragged=True  # Allow ragged tensors as output\n",
        ")\n",
        "\n",
        "# Adapt the target_text_processor to the training dataset by extracting targets\n",
        "target_text_processor.adapt(train_raw.map(lambda context, target: target))"
      ],
      "metadata": {
        "id": "KwtTSDUUG_eR"
      },
      "execution_count": 10,
      "outputs": []
    },
    {
      "cell_type": "code",
      "source": [
        "# Define a function to process text data\n",
        "def process_text(context, target):\n",
        "    # Process context text using a text processor and convert it to a tensor\n",
        "    context = context_text_processor(context).to_tensor()\n",
        "\n",
        "    # Process target text using a text processor\n",
        "    target = target_text_processor(target)\n",
        "\n",
        "    # Prepare input and output target tensors for training\n",
        "    targ_in = target[:, :-1].to_tensor()  # Use all elements except the last as input\n",
        "    targ_out = target[:, 1:].to_tensor()  # Use all elements except the first as output\n",
        "\n",
        "    return (context, targ_in), targ_out  # Return tuple containing input and output targets\n",
        "\n",
        "# Map the process_text function to the training dataset to process the text data\n",
        "train_ds = train_raw.map(process_text, tf.data.AUTOTUNE)\n",
        "\n",
        "# Map the process_text function to the validation dataset to process the text data\n",
        "val_ds = val_raw.map(process_text, tf.data.AUTOTUNE)"
      ],
      "metadata": {
        "id": "afAJjT2oHSVf"
      },
      "execution_count": 11,
      "outputs": []
    },
    {
      "cell_type": "code",
      "source": [
        "# Define the number of units for encoder, cross attention and decoder\n",
        "UNITS = 256"
      ],
      "metadata": {
        "id": "kJZP71o4HcUo"
      },
      "execution_count": 12,
      "outputs": []
    },
    {
      "cell_type": "code",
      "source": [
        "# Define the Encoder class\n",
        "class Encoder(tf.keras.layers.Layer):\n",
        "    def __init__(self, text_processor, units):\n",
        "        super(Encoder, self).__init__()\n",
        "        self.text_processor = text_processor\n",
        "        self.vocab_size = text_processor.vocabulary_size()\n",
        "        self.units = units\n",
        "\n",
        "        # The embedding layer converts tokens to vectors\n",
        "        self.embedding = tf.keras.layers.Embedding(self.vocab_size, units, mask_zero=True)\n",
        "\n",
        "        # The RNN layer processes those vectors sequentially.\n",
        "        self.rnn = tf.keras.layers.Bidirectional(\n",
        "            merge_mode='sum',\n",
        "            layer=tf.keras.layers.GRU(units,\n",
        "                                       # Return the sequence and state\n",
        "                                       return_sequences=True,\n",
        "                                       recurrent_initializer='glorot_uniform'))\n",
        "\n",
        "    def call(self, x):\n",
        "        # 2. The embedding layer looks up the embedding vector for each token.\n",
        "        x = self.embedding(x)\n",
        "\n",
        "        # 3. The GRU processes the sequence of embeddings.\n",
        "        x = self.rnn(x)\n",
        "\n",
        "        # 4. Returns the new sequence of embeddings.\n",
        "        return x\n",
        "\n",
        "    def convert_input(self, texts):\n",
        "        texts = tf.convert_to_tensor(texts)\n",
        "        if len(texts.shape) == 0:\n",
        "            texts = tf.convert_to_tensor(texts)[tf.newaxis]\n",
        "        context = self.text_processor(texts).to_tensor()\n",
        "        context = self(context)\n",
        "        return context"
      ],
      "metadata": {
        "id": "yhG2dMnHHeW0"
      },
      "execution_count": 13,
      "outputs": []
    },
    {
      "cell_type": "code",
      "source": [
        "# Encode the input sequence.\n",
        "encoder = Encoder(context_text_processor, UNITS)"
      ],
      "metadata": {
        "id": "z44RJJUfHiWX"
      },
      "execution_count": 14,
      "outputs": []
    },
    {
      "cell_type": "code",
      "source": [
        "# Define the CrossAttention layer class\n",
        "class CrossAttention(tf.keras.layers.Layer):\n",
        "    def __init__(self, units, **kwargs):\n",
        "        super().__init__()\n",
        "\n",
        "        # Multi-head attention mechanism\n",
        "        self.mha = tf.keras.layers.MultiHeadAttention(key_dim=units, num_heads=1, **kwargs)\n",
        "\n",
        "        # Layer normalization for post-attention processing\n",
        "        self.layernorm = tf.keras.layers.LayerNormalization()\n",
        "\n",
        "        # Addition layer for skip connection\n",
        "        self.add = tf.keras.layers.Add()\n",
        "\n",
        "    def call(self, x, context):\n",
        "        # Perform multi-head attention operation\n",
        "        attn_output, attn_scores = self.mha(\n",
        "            query=x,\n",
        "            value=context,\n",
        "            return_attention_scores=True)\n",
        "\n",
        "        # Cache the attention scores for visualization or analysis\n",
        "        attn_scores = tf.reduce_mean(attn_scores, axis=1)\n",
        "        # shape_checker(attn_scores, 'batch t s')  # Reduced attention scores shape\n",
        "        self.last_attention_weights = attn_scores\n",
        "\n",
        "        # Skip connection: add attention output to the input and normalize\n",
        "        x = self.add([x, attn_output])\n",
        "        x = self.layernorm(x)\n",
        "\n",
        "        return x"
      ],
      "metadata": {
        "id": "6FTXEPumHsAC"
      },
      "execution_count": 15,
      "outputs": []
    },
    {
      "cell_type": "code",
      "source": [
        "# Create an instance of the CrossAttention layer\n",
        "attention_layer = CrossAttention(UNITS)"
      ],
      "metadata": {
        "id": "8dLChHnsHzkl"
      },
      "execution_count": 16,
      "outputs": []
    },
    {
      "cell_type": "code",
      "source": [
        "# `Decoder` class' initializer creates all the necessary layers.\n",
        "class Decoder(tf.keras.layers.Layer):\n",
        "    def __init__(self, text_processor, units):\n",
        "        super(Decoder, self).__init__()\n",
        "\n",
        "        # Store text processor information and vocabulary size\n",
        "        self.text_processor = text_processor\n",
        "        self.vocab_size = text_processor.vocabulary_size()\n",
        "\n",
        "        # Define layers for converting tokens to IDs and vice versa\n",
        "        self.word_to_id = tf.keras.layers.StringLookup(\n",
        "            vocabulary=text_processor.get_vocabulary(),\n",
        "            mask_token='', oov_token='[UNK]')\n",
        "        self.id_to_word = tf.keras.layers.StringLookup(\n",
        "            vocabulary=text_processor.get_vocabulary(),\n",
        "            mask_token='', oov_token='[UNK]',\n",
        "            invert=True)\n",
        "\n",
        "        # Define start and end tokens for sequences\n",
        "        self.start_token = self.word_to_id('[START]')\n",
        "        self.end_token = self.word_to_id('[END]')\n",
        "\n",
        "        self.units = units\n",
        "\n",
        "        # 1. The embedding layer converts token IDs to vectors\n",
        "        self.embedding = tf.keras.layers.Embedding(self.vocab_size, units, mask_zero=True)\n",
        "\n",
        "        # 2. The RNN keeps track of what's been generated so far.\n",
        "        self.rnn = tf.keras.layers.GRU(units,\n",
        "                                       return_sequences=True,\n",
        "                                       return_state=True,\n",
        "                                       recurrent_initializer='glorot_uniform')\n",
        "\n",
        "        # 3. The RNN output will be the query for the attention layer.\n",
        "        self.attention = CrossAttention(units)\n",
        "\n",
        "        # 4. This fully connected layer produces the logits for each output token.\n",
        "        self.output_layer = tf.keras.layers.Dense(self.vocab_size)\n",
        "\n",
        "    def call(self,\n",
        "            context, x,\n",
        "            state=None,\n",
        "            return_state=False):\n",
        "\n",
        "        # 1. Lookup the embeddings for the input sequence\n",
        "        x = self.embedding(x)\n",
        "\n",
        "        # 2. Process the target sequence using the RNN layer\n",
        "        x, state = self.rnn(x, initial_state=state)\n",
        "\n",
        "        # 3. Use the RNN output as the query for the attention mechanism over the context\n",
        "        x = self.attention(x, context)\n",
        "        self.last_attention_weights = self.attention.last_attention_weights\n",
        "\n",
        "        # 4. Generate logit predictions for the next token\n",
        "        logits = self.output_layer(x)\n",
        "\n",
        "        # Return logits and optionally the state\n",
        "        if return_state:\n",
        "            return logits, state\n",
        "        else:\n",
        "            return logits\n",
        "\n",
        "    def get_initial_state(self, context):\n",
        "        # Get the batch size from the context\n",
        "        batch_size = tf.shape(context)[0]\n",
        "\n",
        "        # Create start tokens, done tensor, and embed the start tokens\n",
        "        start_tokens = tf.fill([batch_size, 1], self.start_token)\n",
        "        done = tf.zeros([batch_size, 1], dtype=tf.bool)\n",
        "        embedded = self.embedding(start_tokens)\n",
        "\n",
        "        # Return initial state for the decoder RNN\n",
        "        return start_tokens, done, self.rnn.get_initial_state(embedded)[0]\n",
        "\n",
        "    def tokens_to_text(self, tokens):\n",
        "        # Convert tokens to words using the id_to_word mapping\n",
        "        words = self.id_to_word(tokens)\n",
        "\n",
        "        # Concatenate words to form a text sequence\n",
        "        result = tf.strings.reduce_join(words, axis=-1, separator=' ')\n",
        "\n",
        "        # Remove leading [START] and trailing [END] tokens from the text\n",
        "        result = tf.strings.regex_replace(result, '^ *\\[START\\] *', '')\n",
        "        result = tf.strings.regex_replace(result, ' *\\[END\\] *$', '')\n",
        "\n",
        "        return result\n",
        "\n",
        "    def get_next_token(self, context, next_token, done, state, temperature=0.0):\n",
        "        # Get logits and state from the decoder\n",
        "        logits, state = self(\n",
        "            context, next_token,\n",
        "            state=state,\n",
        "            return_state=True)\n",
        "\n",
        "        # Adjust logits based on temperature for sampling diversity\n",
        "        if temperature == 0.0:\n",
        "            # If temperature is 0, use argmax to get the most probable token\n",
        "            next_token = tf.argmax(logits, axis=-1)\n",
        "        else:\n",
        "            # Apply temperature to logits for diverse sampling\n",
        "            logits = logits[:, -1, :] / temperature\n",
        "            next_token = tf.random.categorical(logits, num_samples=1)\n",
        "\n",
        "        # If a sequence produces an `end_token`, set it as `done`\n",
        "        done = done | (next_token == self.end_token)\n",
        "\n",
        "        # Once a sequence is done, it only produces 0-padding\n",
        "        next_token = tf.where(done, tf.constant(0, dtype=tf.int64), next_token)\n",
        "\n",
        "        return next_token, done, state"
      ],
      "metadata": {
        "id": "Hq5ZduVFH5x1"
      },
      "execution_count": 17,
      "outputs": []
    },
    {
      "cell_type": "code",
      "source": [
        "# Instantiate the Decoder class\n",
        "decoder = Decoder(target_text_processor, UNITS)"
      ],
      "metadata": {
        "id": "R_8HBixXIFk2"
      },
      "execution_count": 18,
      "outputs": []
    },
    {
      "cell_type": "code",
      "source": [
        "class Translator(tf.keras.Model):\n",
        "    def __init__(self, units, context_text_processor, target_text_processor):\n",
        "        super().__init__()\n",
        "\n",
        "        # Build the encoder and decoder using the defined units\n",
        "        encoder = Encoder(context_text_processor, units)\n",
        "        decoder = Decoder(target_text_processor, units)\n",
        "\n",
        "        # Set the encoder and decoder\n",
        "        self.encoder = encoder\n",
        "        self.decoder = decoder\n",
        "\n",
        "    def call(self, inputs):\n",
        "        # Unpack the inputs into context and x (target tokens)\n",
        "        context, x = inputs\n",
        "\n",
        "        # Encode the context\n",
        "        context = self.encoder(context)\n",
        "\n",
        "        # Get logits using the decoder based on the context and target tokens (x)\n",
        "        logits = self.decoder(context, x)\n",
        "\n",
        "        try:\n",
        "            # Remove the Keras mask to prevent scaling of loss and accuracy\n",
        "            del logits._keras_mask\n",
        "        except AttributeError:\n",
        "            # If no Keras mask attribute exists, pass\n",
        "            pass\n",
        "\n",
        "        return logits\n",
        "\n",
        "    def translate(self,\n",
        "                  texts, *,\n",
        "                  max_length=100,\n",
        "                  temperature=0.0):\n",
        "        # Process the input texts by converting them into context embeddings\n",
        "        context = self.encoder.convert_input(texts)\n",
        "        batch_size = tf.shape(texts)[0]  # Get the batch size from the input texts\n",
        "\n",
        "        # Initialize empty lists to store tokens and attention weights\n",
        "        tokens = []  # List to collect generated tokens\n",
        "        attention_weights = []  # List to collect attention weights for each token\n",
        "\n",
        "        # Get initial values for next_token, done, and state from the decoder\n",
        "        next_token, done, state = self.decoder.get_initial_state(context)\n",
        "\n",
        "        # Generate tokens while considering a maximum length or until termination\n",
        "        for _ in range(max_length):\n",
        "            # Generate the next token\n",
        "            next_token, done, state = self.decoder.get_next_token(\n",
        "                context, next_token, done, state, temperature)\n",
        "\n",
        "            # Collect the generated tokens and attention weights\n",
        "            tokens.append(next_token)\n",
        "            attention_weights.append(self.decoder.last_attention_weights)\n",
        "\n",
        "            # Break the loop if all sequences are done (in eager execution mode)\n",
        "            if tf.executing_eagerly() and tf.reduce_all(done):\n",
        "                break\n",
        "\n",
        "        # Stack the collected lists of tokens and attention weights\n",
        "        tokens = tf.concat(tokens, axis=-1)  # Concatenate tokens along the sequence axis\n",
        "        self.last_attention_weights = tf.concat(attention_weights, axis=1)  # Concatenate attention weights\n",
        "\n",
        "        # Convert the tokens back to human-readable text\n",
        "        result = self.decoder.tokens_to_text(tokens)\n",
        "        return result  # Return the translated text"
      ],
      "metadata": {
        "id": "tswv9LSTITfv"
      },
      "execution_count": 19,
      "outputs": []
    },
    {
      "cell_type": "code",
      "source": [
        "# Instantiate the Translator model\n",
        "model = Translator(UNITS, context_text_processor, target_text_processor)"
      ],
      "metadata": {
        "id": "yTCz4K3uIXVr"
      },
      "execution_count": 20,
      "outputs": []
    },
    {
      "cell_type": "code",
      "source": [
        "def masked_loss(y_true, y_pred):\n",
        "    # Calculate the loss for each item in the batch.\n",
        "    loss_fn = tf.keras.losses.SparseCategoricalCrossentropy(from_logits=True, reduction='none')\n",
        "    loss = loss_fn(y_true, y_pred)\n",
        "\n",
        "    # Create a mask to ignore padding tokens.\n",
        "    mask = tf.cast(y_true != 0, loss.dtype)\n",
        "    loss *= mask  # Apply the mask to the calculated losses.\n",
        "\n",
        "    # Calculate the total loss, considering only non-padded tokens.\n",
        "    # Summing the losses and dividing by the total number of non-padded tokens in the batch.\n",
        "    total_loss = tf.reduce_sum(loss) / tf.reduce_sum(mask)\n",
        "\n",
        "    return total_loss"
      ],
      "metadata": {
        "id": "BZVreojhIZjZ"
      },
      "execution_count": 21,
      "outputs": []
    },
    {
      "cell_type": "code",
      "source": [
        "def masked_acc(y_true, y_pred):\n",
        "    # Get the predicted labels by finding the index of the maximum value along the last axis\n",
        "    y_pred = tf.argmax(y_pred, axis=-1)\n",
        "    # Cast the predicted labels to the same data type as y_true\n",
        "    y_pred = tf.cast(y_pred, y_true.dtype)\n",
        "\n",
        "    # Calculate a match where true labels equal predicted labels, cast to float32\n",
        "    match = tf.cast(y_true == y_pred, tf.float32)\n",
        "    # Create a mask to ignore padding tokens\n",
        "    mask = tf.cast(y_true != 0, tf.float32)\n",
        "\n",
        "    # Calculate accuracy by summing up matches and dividing by the total non-padding tokens\n",
        "    accuracy = tf.reduce_sum(match) / tf.reduce_sum(mask)\n",
        "\n",
        "    return accuracy"
      ],
      "metadata": {
        "id": "Pd7HkP1wIcd-"
      },
      "execution_count": 22,
      "outputs": []
    },
    {
      "cell_type": "code",
      "source": [
        "model.compile(optimizer=\"adam\",\n",
        "              loss=masked_loss,  # Use the masked loss function for optimization\n",
        "              metrics=[masked_acc, masked_loss])  # Use masked accuracy and masked loss as evaluation metrics"
      ],
      "metadata": {
        "id": "KWpMo2y5IeZQ"
      },
      "execution_count": 23,
      "outputs": []
    },
    {
      "cell_type": "code",
      "source": [
        "# The model is randomly initialized, and should give roughly uniform output probabilities.\n",
        "# Calculate the vocabulary size as a floating-point value\n",
        "vocab_size = 1.0 * target_text_processor.vocabulary_size()\n",
        "\n",
        "# Return the expected loss and accuracy as a dictionary\n",
        "{\n",
        "    \"expected_loss\": tf.math.log(vocab_size).numpy(),\n",
        "    \"expected_acc\": 1 / vocab_size\n",
        "}"
      ],
      "metadata": {
        "id": "OY3TzrvYIgPt",
        "colab": {
          "base_uri": "https://localhost:8080/"
        },
        "outputId": "44db5b34-f443-414f-ffd8-19a782fe66e5"
      },
      "execution_count": 24,
      "outputs": [
        {
          "output_type": "execute_result",
          "data": {
            "text/plain": [
              "{'expected_loss': 3.0910425, 'expected_acc': 0.045454545454545456}"
            ]
          },
          "metadata": {},
          "execution_count": 24
        }
      ]
    },
    {
      "cell_type": "code",
      "source": [
        "# Evaluate the model on the validation dataset for a specified number of steps\n",
        "evaluation_results = model.evaluate(val_ds, steps=20, return_dict=True)"
      ],
      "metadata": {
        "id": "zJ6zAULIIkJK",
        "colab": {
          "base_uri": "https://localhost:8080/"
        },
        "outputId": "9d936937-551d-4b36-ad82-1a9ea291b461"
      },
      "execution_count": 25,
      "outputs": [
        {
          "output_type": "stream",
          "name": "stdout",
          "text": [
            "20/20 [==============================] - 9s 16ms/step - loss: 3.1699 - masked_acc: 0.1839 - masked_loss: 3.1699\n"
          ]
        }
      ]
    },
    {
      "cell_type": "code",
      "source": [
        "# Define the early stopping callback\n",
        "early_stopping = tf.keras.callbacks.EarlyStopping(\n",
        "    monitor='val_loss',          # or 'val_accuracy'\n",
        "    patience=5,                  # Number of epochs to wait for improvement\n",
        "    restore_best_weights=True    # Restore model weights from the epoch with the best value of the monitored quantity\n",
        ")"
      ],
      "metadata": {
        "id": "VUWG5f_FInJ0"
      },
      "execution_count": 26,
      "outputs": []
    },
    {
      "cell_type": "code",
      "source": [
        "history = model.fit(\n",
        "    train_ds.repeat(),  # Training dataset to repeat indefinitely\n",
        "    epochs=50,  # Number of training epochs\n",
        "    steps_per_epoch=100,  # Number of training steps per epoch\n",
        "    validation_data=val_ds,  # Validation dataset\n",
        "    validation_steps=20,  # Number of validation steps\n",
        "    callbacks=early_stopping\n",
        ")"
      ],
      "metadata": {
        "id": "lgCiEqj2Iq7J",
        "colab": {
          "base_uri": "https://localhost:8080/"
        },
        "outputId": "f9c05525-c906-4b32-8c9c-ddb1dc084f29"
      },
      "execution_count": 27,
      "outputs": [
        {
          "output_type": "stream",
          "name": "stdout",
          "text": [
            "Epoch 1/50\n",
            "100/100 [==============================] - 32s 59ms/step - loss: 1.2451 - masked_acc: 0.5352 - masked_loss: 1.2451 - val_loss: 0.8726 - val_masked_acc: 0.6485 - val_masked_loss: 0.8726\n",
            "Epoch 2/50\n",
            "100/100 [==============================] - 7s 72ms/step - loss: 0.6809 - masked_acc: 0.7289 - masked_loss: 0.6809 - val_loss: 0.5364 - val_masked_acc: 0.7905 - val_masked_loss: 0.5364\n",
            "Epoch 3/50\n",
            "100/100 [==============================] - 6s 60ms/step - loss: 0.4293 - masked_acc: 0.8352 - masked_loss: 0.4293 - val_loss: 0.4005 - val_masked_acc: 0.8453 - val_masked_loss: 0.4005\n",
            "Epoch 4/50\n",
            "100/100 [==============================] - 5s 50ms/step - loss: 0.2749 - masked_acc: 0.8995 - masked_loss: 0.2749 - val_loss: 0.2264 - val_masked_acc: 0.9142 - val_masked_loss: 0.2264\n",
            "Epoch 5/50\n",
            "100/100 [==============================] - 4s 44ms/step - loss: 0.1979 - masked_acc: 0.9308 - masked_loss: 0.1979 - val_loss: 0.1700 - val_masked_acc: 0.9390 - val_masked_loss: 0.1700\n",
            "Epoch 6/50\n",
            "100/100 [==============================] - 2s 25ms/step - loss: 0.1400 - masked_acc: 0.9529 - masked_loss: 0.1400 - val_loss: 0.1129 - val_masked_acc: 0.9632 - val_masked_loss: 0.1129\n",
            "Epoch 7/50\n",
            "100/100 [==============================] - 2s 23ms/step - loss: 0.1069 - masked_acc: 0.9646 - masked_loss: 0.1069 - val_loss: 0.0757 - val_masked_acc: 0.9761 - val_masked_loss: 0.0757\n",
            "Epoch 8/50\n",
            "100/100 [==============================] - 2s 24ms/step - loss: 0.0922 - masked_acc: 0.9705 - masked_loss: 0.0922 - val_loss: 0.0827 - val_masked_acc: 0.9738 - val_masked_loss: 0.0827\n",
            "Epoch 9/50\n",
            "100/100 [==============================] - 3s 25ms/step - loss: 0.0565 - masked_acc: 0.9831 - masked_loss: 0.0565 - val_loss: 0.0469 - val_masked_acc: 0.9849 - val_masked_loss: 0.0469\n",
            "Epoch 10/50\n",
            "100/100 [==============================] - 4s 42ms/step - loss: 0.0458 - masked_acc: 0.9866 - masked_loss: 0.0458 - val_loss: 0.0475 - val_masked_acc: 0.9852 - val_masked_loss: 0.0475\n",
            "Epoch 11/50\n",
            "100/100 [==============================] - 2s 25ms/step - loss: 0.0503 - masked_acc: 0.9846 - masked_loss: 0.0503 - val_loss: 0.0324 - val_masked_acc: 0.9912 - val_masked_loss: 0.0324\n",
            "Epoch 12/50\n",
            "100/100 [==============================] - 2s 24ms/step - loss: 0.0385 - masked_acc: 0.9887 - masked_loss: 0.0385 - val_loss: 0.0281 - val_masked_acc: 0.9926 - val_masked_loss: 0.0281\n",
            "Epoch 13/50\n",
            "100/100 [==============================] - 2s 25ms/step - loss: 0.0258 - masked_acc: 0.9928 - masked_loss: 0.0258 - val_loss: 0.0292 - val_masked_acc: 0.9920 - val_masked_loss: 0.0292\n",
            "Epoch 14/50\n",
            "100/100 [==============================] - 3s 25ms/step - loss: 0.0246 - masked_acc: 0.9932 - masked_loss: 0.0246 - val_loss: 0.0266 - val_masked_acc: 0.9929 - val_masked_loss: 0.0266\n",
            "Epoch 15/50\n",
            "100/100 [==============================] - 4s 40ms/step - loss: 0.0292 - masked_acc: 0.9915 - masked_loss: 0.0292 - val_loss: 0.0251 - val_masked_acc: 0.9923 - val_masked_loss: 0.0251\n",
            "Epoch 16/50\n",
            "100/100 [==============================] - 2s 25ms/step - loss: 0.0260 - masked_acc: 0.9925 - masked_loss: 0.0260 - val_loss: 0.0122 - val_masked_acc: 0.9967 - val_masked_loss: 0.0122\n",
            "Epoch 17/50\n",
            "100/100 [==============================] - 2s 24ms/step - loss: 0.0168 - masked_acc: 0.9954 - masked_loss: 0.0168 - val_loss: 0.0318 - val_masked_acc: 0.9904 - val_masked_loss: 0.0318\n",
            "Epoch 18/50\n",
            "100/100 [==============================] - 3s 25ms/step - loss: 0.0284 - masked_acc: 0.9914 - masked_loss: 0.0284 - val_loss: 0.0160 - val_masked_acc: 0.9953 - val_masked_loss: 0.0160\n",
            "Epoch 19/50\n",
            "100/100 [==============================] - 3s 25ms/step - loss: 0.0184 - masked_acc: 0.9948 - masked_loss: 0.0184 - val_loss: 0.0080 - val_masked_acc: 0.9983 - val_masked_loss: 0.0080\n",
            "Epoch 20/50\n",
            "100/100 [==============================] - 4s 41ms/step - loss: 0.0525 - masked_acc: 0.9850 - masked_loss: 0.0525 - val_loss: 0.0179 - val_masked_acc: 0.9955 - val_masked_loss: 0.0179\n",
            "Epoch 21/50\n",
            "100/100 [==============================] - 2s 23ms/step - loss: 0.0134 - masked_acc: 0.9964 - masked_loss: 0.0134 - val_loss: 0.0102 - val_masked_acc: 0.9971 - val_masked_loss: 0.0102\n",
            "Epoch 22/50\n",
            "100/100 [==============================] - 3s 25ms/step - loss: 0.0084 - masked_acc: 0.9979 - masked_loss: 0.0084 - val_loss: 0.0057 - val_masked_acc: 0.9987 - val_masked_loss: 0.0057\n",
            "Epoch 23/50\n",
            "100/100 [==============================] - 2s 25ms/step - loss: 0.0083 - masked_acc: 0.9978 - masked_loss: 0.0083 - val_loss: 0.0094 - val_masked_acc: 0.9977 - val_masked_loss: 0.0094\n",
            "Epoch 24/50\n",
            "100/100 [==============================] - 2s 24ms/step - loss: 0.0087 - masked_acc: 0.9977 - masked_loss: 0.0087 - val_loss: 0.0131 - val_masked_acc: 0.9962 - val_masked_loss: 0.0131\n",
            "Epoch 25/50\n",
            "100/100 [==============================] - 4s 42ms/step - loss: 0.0064 - masked_acc: 0.9985 - masked_loss: 0.0064 - val_loss: 0.0083 - val_masked_acc: 0.9978 - val_masked_loss: 0.0083\n",
            "Epoch 26/50\n",
            "100/100 [==============================] - 3s 25ms/step - loss: 0.0907 - masked_acc: 0.9755 - masked_loss: 0.0907 - val_loss: 0.0142 - val_masked_acc: 0.9965 - val_masked_loss: 0.0142\n",
            "Epoch 27/50\n",
            "100/100 [==============================] - 2s 24ms/step - loss: 0.0092 - masked_acc: 0.9980 - masked_loss: 0.0092 - val_loss: 0.0049 - val_masked_acc: 0.9990 - val_masked_loss: 0.0049\n",
            "Epoch 28/50\n",
            "100/100 [==============================] - 2s 24ms/step - loss: 0.0098 - masked_acc: 0.9975 - masked_loss: 0.0098 - val_loss: 0.0059 - val_masked_acc: 0.9988 - val_masked_loss: 0.0059\n",
            "Epoch 29/50\n",
            "100/100 [==============================] - 2s 25ms/step - loss: 0.0055 - masked_acc: 0.9987 - masked_loss: 0.0055 - val_loss: 0.0089 - val_masked_acc: 0.9975 - val_masked_loss: 0.0089\n",
            "Epoch 30/50\n",
            "100/100 [==============================] - 5s 48ms/step - loss: 0.0070 - masked_acc: 0.9982 - masked_loss: 0.0070 - val_loss: 0.0043 - val_masked_acc: 0.9988 - val_masked_loss: 0.0043\n",
            "Epoch 31/50\n",
            "100/100 [==============================] - 2s 24ms/step - loss: 0.0047 - masked_acc: 0.9989 - masked_loss: 0.0047 - val_loss: 0.0057 - val_masked_acc: 0.9985 - val_masked_loss: 0.0057\n",
            "Epoch 32/50\n",
            "100/100 [==============================] - 2s 24ms/step - loss: 0.0099 - masked_acc: 0.9971 - masked_loss: 0.0099 - val_loss: 0.0057 - val_masked_acc: 0.9983 - val_masked_loss: 0.0057\n",
            "Epoch 33/50\n",
            "100/100 [==============================] - 3s 25ms/step - loss: 0.0085 - masked_acc: 0.9976 - masked_loss: 0.0085 - val_loss: 0.0116 - val_masked_acc: 0.9970 - val_masked_loss: 0.0116\n",
            "Epoch 34/50\n",
            "100/100 [==============================] - 3s 25ms/step - loss: 0.0100 - masked_acc: 0.9971 - masked_loss: 0.0100 - val_loss: 0.0053 - val_masked_acc: 0.9987 - val_masked_loss: 0.0053\n",
            "Epoch 35/50\n",
            "100/100 [==============================] - 4s 40ms/step - loss: 0.0082 - masked_acc: 0.9978 - masked_loss: 0.0082 - val_loss: 0.0073 - val_masked_acc: 0.9980 - val_masked_loss: 0.0073\n"
          ]
        }
      ]
    },
    {
      "cell_type": "code",
      "source": [
        "# Plotting training and validation loss\n",
        "plt.plot(history.history['loss'], label='loss')  # Training loss over epochs\n",
        "plt.plot(history.history['val_loss'], label='val_loss')  # Validation loss over epochs\n",
        "\n",
        "# Setting y-axis limit to maintain consistency\n",
        "plt.ylim([0, max(plt.ylim())])\n",
        "\n",
        "# Labeling the axes\n",
        "plt.xlabel('Epoch #')  # X-axis label indicating epoch number\n",
        "plt.ylabel('CE/token')  # Y-axis label indicating cross-entropy per token\n",
        "\n",
        "# Displaying legend for clarity\n",
        "plt.legend()  # Show labels for 'loss' and 'val_loss' in the plot"
      ],
      "metadata": {
        "id": "r50J26fLIzwu",
        "colab": {
          "base_uri": "https://localhost:8080/",
          "height": 466
        },
        "outputId": "2ef0cf30-f30b-47f3-aaf2-59935b0e55f1"
      },
      "execution_count": 28,
      "outputs": [
        {
          "output_type": "execute_result",
          "data": {
            "text/plain": [
              "<matplotlib.legend.Legend at 0x7a7be12b5960>"
            ]
          },
          "metadata": {},
          "execution_count": 28
        },
        {
          "output_type": "display_data",
          "data": {
            "text/plain": [
              "<Figure size 640x480 with 1 Axes>"
            ],
            "image/png": "[encoded data removed]"
          },
          "metadata": {}
        }
      ]
    },
    {
      "cell_type": "code",
      "source": [
        "# Plotting training and validation accuracy\n",
        "plt.plot(history.history['masked_acc'], label='accuracy')  # Training accuracy over epochs\n",
        "plt.plot(history.history['val_masked_acc'], label='val_accuracy')  # Validation accuracy over epochs\n",
        "\n",
        "# Setting y-axis limit to maintain consistency\n",
        "plt.ylim([0, max(plt.ylim())])\n",
        "\n",
        "# Labeling the axes\n",
        "plt.xlabel('Epoch #')  # X-axis label indicating epoch number\n",
        "plt.ylabel('CE/token')  # Y-axis label indicating cross-entropy per token\n",
        "\n",
        "# Displaying legend for clarity\n",
        "plt.legend()  # Show labels for 'accuracy' and 'val_accuracy' in the plot"
      ],
      "metadata": {
        "id": "xeQKzozTI2Pl",
        "colab": {
          "base_uri": "https://localhost:8080/",
          "height": 466
        },
        "outputId": "637d2091-6ae5-43b6-dd8e-bb1cbc0c0767"
      },
      "execution_count": 29,
      "outputs": [
        {
          "output_type": "execute_result",
          "data": {
            "text/plain": [
              "<matplotlib.legend.Legend at 0x7a7b64fa5870>"
            ]
          },
          "metadata": {},
          "execution_count": 29
        },
        {
          "output_type": "display_data",
          "data": {
            "text/plain": [
              "<Figure size 640x480 with 1 Axes>"
            ],
            "image/png": "[encoded data removed]"
          },
          "metadata": {}
        }
      ]
    },
    {
      "cell_type": "code",
      "source": [
        "correct = 0\n",
        "accuracy = 0\n",
        "NN = len(train_inputs)\n",
        "\n",
        "# Process the data in chunks of 1000, including the last chunk which may be smaller\n",
        "for i in range(0, NN, 1000):\n",
        "    inputs = train_inputs[i:i+1000]\n",
        "    result = model.translate(tf.constant(inputs))\n",
        "    for j in range(len(inputs)):  # Use len(inputs) to handle the last smaller batch\n",
        "        input_sentence = train_inputs[i+j]\n",
        "        output_sentence = train_outputs[i+j]\n",
        "        predicted_sentence = result[j].numpy().decode()\n",
        "        if predicted_sentence.strip() == output_sentence.strip():\n",
        "            correct += 1\n",
        "\n",
        "print(f\"accuracy = {correct*100/NN:.2f}%\")"
      ],
      "metadata": {
        "id": "7rVW5P_RHRki",
        "colab": {
          "base_uri": "https://localhost:8080/"
        },
        "outputId": "227842cc-8a10-41a7-d1f3-d249fde2d55a"
      },
      "execution_count": 30,
      "outputs": [
        {
          "output_type": "stream",
          "name": "stdout",
          "text": [
            "accuracy = 97.11%\n"
          ]
        }
      ]
    },
    {
      "cell_type": "code",
      "source": [
        "correct = 0\n",
        "accuracy = 0\n",
        "NN = len(val_inputs)\n",
        "\n",
        "# Process the data in chunks of 1000, including the last chunk which may be smaller\n",
        "for i in range(0, NN, 1000):\n",
        "    inputs = val_inputs[i:i+1000]\n",
        "    result = model.translate(tf.constant(inputs))\n",
        "    for j in range(len(inputs)):  # Use len(inputs) to handle the last smaller batch\n",
        "        input_sentence = val_inputs[i+j]\n",
        "        output_sentence = val_outputs[i+j]\n",
        "        predicted_sentence = result[j].numpy().decode()\n",
        "        if predicted_sentence.strip() == output_sentence.strip():\n",
        "            correct += 1\n",
        "\n",
        "print(f\"accuracy = {correct*100/NN:.2f}%\")"
      ],
      "metadata": {
        "id": "x9agiC1BIAzy",
        "colab": {
          "base_uri": "https://localhost:8080/"
        },
        "outputId": "807cb71b-79a5-49ab-c003-f68e9108934d"
      },
      "execution_count": 31,
      "outputs": [
        {
          "output_type": "stream",
          "name": "stdout",
          "text": [
            "accuracy = 97.04%\n"
          ]
        }
      ]
    },
    {
      "cell_type": "code",
      "source": [
        "class Export(tf.Module):\n",
        "  def __init__(self, model):\n",
        "    self.model = model\n",
        "\n",
        "  @tf.function(input_signature=[tf.TensorSpec(dtype=tf.string, shape=[None])])\n",
        "  def translate(self, inputs):\n",
        "    return self.model.translate(inputs)"
      ],
      "metadata": {
        "id": "MgZ1mOzGUsw1"
      },
      "execution_count": 32,
      "outputs": []
    },
    {
      "cell_type": "code",
      "source": [
        "export = Export(model)"
      ],
      "metadata": {
        "id": "G8byZcwvW3fu"
      },
      "execution_count": 33,
      "outputs": []
    },
    {
      "cell_type": "code",
      "source": [
        "inputs = train_inputs[:5]\n",
        "_ = export.translate(tf.constant(inputs))"
      ],
      "metadata": {
        "id": "7UFaNjzuW5q0"
      },
      "execution_count": 34,
      "outputs": []
    },
    {
      "cell_type": "code",
      "source": [
        "result = export.translate(tf.constant(inputs))\n",
        "\n",
        "print(result[0].numpy().decode())\n",
        "print(result[1].numpy().decode())\n",
        "print(result[2].numpy().decode())\n",
        "print()"
      ],
      "metadata": {
        "id": "t0cJi9wnW7fK",
        "colab": {
          "base_uri": "https://localhost:8080/"
        },
        "outputId": "9de1629d-f9f6-4d1c-8606-c91c73b30727"
      },
      "execution_count": 35,
      "outputs": [
        {
          "output_type": "stream",
          "name": "stdout",
          "text": [
            "c e b d c f b d a h e f g c f a e i a f h j a g d k                                                                          \n",
            "c e b d c f c e b d a h f g h b d b d b d c d a d l m a h j k ed a f i ee a h d e ef                                                           \n",
            "c g b d a e e c f b d b d a d h i a f g j b d a f k l b d a h f m ed b d a h d ee ef                                                           \n",
            "\n"
          ]
        }
      ]
    },
    {
      "cell_type": "code",
      "source": [
        "# Save the model using tf.saved_model.save\n",
        "tf.saved_model.save(\n",
        "    export,  # Exported module to be saveds\n",
        "    '/gdrive/MyDrive/Colab Notebooks/translator.tf',  # Filepath to save the model\n",
        "    signatures={'serving_default': export.translate}  # Define a serving signature for the model\n",
        ")"
      ],
      "metadata": {
        "id": "pWiJ36j9XN_5",
        "colab": {
          "base_uri": "https://localhost:8080/"
        },
        "outputId": "80cd895b-8b53-40e8-9b5b-0ab6c1d5d9e4"
      },
      "execution_count": 36,
      "outputs": [
        {
          "output_type": "stream",
          "name": "stderr",
          "text": [
            "WARNING:tensorflow:Model's `__init__()` arguments contain non-serializable objects. Please implement a `get_config()` method in the subclassed Model for proper saving and loading. Defaulting to empty config.\n",
            "WARNING:tensorflow:Model's `__init__()` arguments contain non-serializable objects. Please implement a `get_config()` method in the subclassed Model for proper saving and loading. Defaulting to empty config.\n"
          ]
        }
      ]
    }
  ],
  "metadata": {
    "colab": {
      "provenance": [],
      "gpuType": "T4"
    },
    "kernelspec": {
      "display_name": "Python 3",
      "name": "python3"
    },
    "language_info": {
      "name": "python"
    },
    "accelerator": "GPU"
  },
  "nbformat": 4,
  "nbformat_minor": 0
}